{
 "cells": [
  {
   "cell_type": "code",
   "execution_count": 1,
   "id": "a14a355c",
   "metadata": {},
   "outputs": [],
   "source": [
    "def send_radial_gaia_query(query_size=1000000, distance=200, **kwargs):\n",
    "    \"\"\"\n",
    "    Sends an archive query for d < 200 pc, with additional filters taken from\n",
    "    Gaia Data Release 2: Observational Hertzsprung-Russell diagrams (Sect. 2.1)\n",
    "    Gaia Collaboration, Babusiaux et al. (2018)\n",
    "    (https://doi.org/10.1051/0004-6361/201832843)\n",
    "\n",
    "    NOTE: 10000000 is a maximum query size (~76 MB / column)\n",
    "\n",
    "    Additional keyword arguments are passed to TapPlus.launch_job_async method.\n",
    "    \"\"\"\n",
    "    from astroquery.gaia import Gaia\n",
    "\n",
    "#     gaia = TapPlus(url=\"http://gea.esac.esa.int/tap-server/tap\")\n",
    "\n",
    "    job = Gaia.launch_job_async(\"select top {}\".format(query_size)+\n",
    "                #\" lum_val, teff_val,\"\n",
    "                #\" ra, dec, parallax,\"\n",
    "                \"designation, bp_rp, phot_g_mean_mag+5*log10(parallax)-10 as mg\"\n",
    "         \" from gaiadr2.gaia_source\"\n",
    "         \" where parallax_over_error > 10\"\n",
    "         \" and visibility_periods_used > 8\"\n",
    "         \" and phot_g_mean_flux_over_error > 50\"\n",
    "         \" and phot_bp_mean_flux_over_error > 20\"\n",
    "         \" and phot_rp_mean_flux_over_error > 20\"\n",
    "         \" and phot_bp_rp_excess_factor <\"\n",
    "            \" 1.3+0.06*power(phot_bp_mean_mag-phot_rp_mean_mag,2)\"\n",
    "         \" and phot_bp_rp_excess_factor >\"\n",
    "            \" 1.0+0.015*power(phot_bp_mean_mag-phot_rp_mean_mag,2)\"\n",
    "         \" and astrometric_chi2_al/(astrometric_n_good_obs_al-5)<\"\n",
    "            \"1.44*greatest(1,exp(-0.4*(phot_g_mean_mag-19.5)))\"\n",
    "         +\" and 1000/parallax <= {}\".format(distance), **kwargs)\n",
    "\n",
    "    return job"
   ]
  },
  {
   "cell_type": "code",
   "execution_count": 2,
   "id": "c7727568",
   "metadata": {},
   "outputs": [],
   "source": [
    "## 200 datas\n",
    "\n",
    "import numpy as np\n",
    "\n",
    "try:\n",
    "    gaiarec = np.recfromcsv(\"gaia-hrd-dr2-200pc-200data.csv\")\n",
    "    bp_rp, mg = gaiarec.bp_rp, gaiarec.mg\n",
    "except OSError:\n",
    "    job = send_radial_gaia_query(dump_to_file=True, output_format=\"csv\",\n",
    "                                 output_file=\"gaia-hrd-dr2-200pc-200data.csv\",\n",
    "                                 query_size=200)\n",
    "    r = job.get_results()\n",
    "    bp_rp = r['bp_rp'].data\n",
    "    mg = r['mg'].data"
   ]
  },
  {
   "cell_type": "code",
   "execution_count": 32,
   "id": "754f3afa",
   "metadata": {},
   "outputs": [],
   "source": [
    "## 100k datas\n",
    "\n",
    "import numpy as np\n",
    "\n",
    "try:\n",
    "    gaiarec = np.recfromcsv(\"gaia-hrd-dr2-200pc.csv\")\n",
    "    bp_rp, mg = gaiarec.bp_rp, gaiarec.mg\n",
    "except OSError:\n",
    "    job = send_radial_gaia_query(dump_to_file=True, output_format=\"csv\",\n",
    "                                 output_file=\"gaia-hrd-dr2-200pc.csv\",\n",
    "                                 query_size=100000)\n",
    "    r = job.get_results()\n",
    "    bp_rp = r['bp_rp'].data\n",
    "    mg = r['mg'].data"
   ]
  },
  {
   "cell_type": "markdown",
   "id": "1b949f3f",
   "metadata": {},
   "source": [
    "## Doing some absolute number stuff\n"
   ]
  },
  {
   "cell_type": "code",
   "execution_count": 10,
   "id": "2b7e4764",
   "metadata": {},
   "outputs": [
    {
     "data": {
      "text/html": [
       "<div>\n",
       "<style scoped>\n",
       "    .dataframe tbody tr th:only-of-type {\n",
       "        vertical-align: middle;\n",
       "    }\n",
       "\n",
       "    .dataframe tbody tr th {\n",
       "        vertical-align: top;\n",
       "    }\n",
       "\n",
       "    .dataframe thead th {\n",
       "        text-align: right;\n",
       "    }\n",
       "</style>\n",
       "<table border=\"1\" class=\"dataframe\">\n",
       "  <thead>\n",
       "    <tr style=\"text-align: right;\">\n",
       "      <th></th>\n",
       "      <th>designation</th>\n",
       "      <th>bp_rp</th>\n",
       "      <th>mg</th>\n",
       "    </tr>\n",
       "  </thead>\n",
       "  <tbody>\n",
       "    <tr>\n",
       "      <th>0</th>\n",
       "      <td>Gaia DR2 4539783936566461056</td>\n",
       "      <td>0.747162</td>\n",
       "      <td>13.608096</td>\n",
       "    </tr>\n",
       "    <tr>\n",
       "      <th>1</th>\n",
       "      <td>Gaia DR2 2812831909590865536</td>\n",
       "      <td>0.283896</td>\n",
       "      <td>13.253650</td>\n",
       "    </tr>\n",
       "    <tr>\n",
       "      <th>2</th>\n",
       "      <td>Gaia DR2 4071809698800279424</td>\n",
       "      <td>1.008385</td>\n",
       "      <td>12.452089</td>\n",
       "    </tr>\n",
       "    <tr>\n",
       "      <th>3</th>\n",
       "      <td>Gaia DR2 6778893049604377472</td>\n",
       "      <td>0.510580</td>\n",
       "      <td>12.923529</td>\n",
       "    </tr>\n",
       "    <tr>\n",
       "      <th>4</th>\n",
       "      <td>Gaia DR2 793545682392321280</td>\n",
       "      <td>0.174200</td>\n",
       "      <td>12.599646</td>\n",
       "    </tr>\n",
       "    <tr>\n",
       "      <th>...</th>\n",
       "      <td>...</td>\n",
       "      <td>...</td>\n",
       "      <td>...</td>\n",
       "    </tr>\n",
       "    <tr>\n",
       "      <th>195</th>\n",
       "      <td>Gaia DR2 3905140808491432192</td>\n",
       "      <td>0.407551</td>\n",
       "      <td>12.929628</td>\n",
       "    </tr>\n",
       "    <tr>\n",
       "      <th>196</th>\n",
       "      <td>Gaia DR2 5003144941401554944</td>\n",
       "      <td>0.671535</td>\n",
       "      <td>13.991094</td>\n",
       "    </tr>\n",
       "    <tr>\n",
       "      <th>197</th>\n",
       "      <td>Gaia DR2 547189347590908160</td>\n",
       "      <td>0.493996</td>\n",
       "      <td>13.518657</td>\n",
       "    </tr>\n",
       "    <tr>\n",
       "      <th>198</th>\n",
       "      <td>Gaia DR2 6757553079406649088</td>\n",
       "      <td>2.755840</td>\n",
       "      <td>12.139256</td>\n",
       "    </tr>\n",
       "    <tr>\n",
       "      <th>199</th>\n",
       "      <td>Gaia DR2 3476029595156069248</td>\n",
       "      <td>0.691195</td>\n",
       "      <td>14.079711</td>\n",
       "    </tr>\n",
       "  </tbody>\n",
       "</table>\n",
       "<p>200 rows × 3 columns</p>\n",
       "</div>"
      ],
      "text/plain": [
       "                      designation     bp_rp         mg\n",
       "0    Gaia DR2 4539783936566461056  0.747162  13.608096\n",
       "1    Gaia DR2 2812831909590865536  0.283896  13.253650\n",
       "2    Gaia DR2 4071809698800279424  1.008385  12.452089\n",
       "3    Gaia DR2 6778893049604377472  0.510580  12.923529\n",
       "4     Gaia DR2 793545682392321280  0.174200  12.599646\n",
       "..                            ...       ...        ...\n",
       "195  Gaia DR2 3905140808491432192  0.407551  12.929628\n",
       "196  Gaia DR2 5003144941401554944  0.671535  13.991094\n",
       "197   Gaia DR2 547189347590908160  0.493996  13.518657\n",
       "198  Gaia DR2 6757553079406649088  2.755840  12.139256\n",
       "199  Gaia DR2 3476029595156069248  0.691195  14.079711\n",
       "\n",
       "[200 rows x 3 columns]"
      ]
     },
     "execution_count": 10,
     "metadata": {},
     "output_type": "execute_result"
    }
   ],
   "source": [
    "import pandas as pd\n",
    "\n",
    "df = pd.read_csv(\"gaia-hrd-dr2-200pc-200data.csv\")\n",
    "df"
   ]
  },
  {
   "cell_type": "code",
   "execution_count": 13,
   "id": "62a88f57",
   "metadata": {},
   "outputs": [],
   "source": [
    "df['bp_rp'] = df['bp_rp'].abs()\n",
    "df.head(50)\n",
    "df.to_csv (r'C:\\Users\\ianch\\Desktop\\Year 3 Sem 1\\TDS3401 Data Visualization\\Project\\Data\\absolute_val.csv', index = False, header=True)"
   ]
  },
  {
   "cell_type": "markdown",
   "id": "5d875ce5",
   "metadata": {},
   "source": [
    "# some learning i found online"
   ]
  },
  {
   "cell_type": "code",
   "execution_count": 8,
   "id": "347226bb",
   "metadata": {},
   "outputs": [],
   "source": [
    "from astroquery.gaia import Gaia"
   ]
  },
  {
   "cell_type": "code",
   "execution_count": 10,
   "id": "e6a434c0",
   "metadata": {},
   "outputs": [
    {
     "name": "stdout",
     "output_type": "stream",
     "text": [
      "INFO: Retrieving tables... [astroquery.utils.tap.core]\n",
      "INFO: Parsing tables... [astroquery.utils.tap.core]\n",
      "INFO: Done. [astroquery.utils.tap.core]\n"
     ]
    }
   ],
   "source": [
    "tables = Gaia.load_tables(only_names=True)"
   ]
  },
  {
   "cell_type": "code",
   "execution_count": 11,
   "id": "a6112aab",
   "metadata": {
    "scrolled": true
   },
   "outputs": [
    {
     "name": "stdout",
     "output_type": "stream",
     "text": [
      "external.apassdr9\n",
      "external.gaiadr2_astrophysical_parameters\n",
      "external.gaiadr2_geometric_distance\n",
      "external.gaiaedr3_distance\n",
      "external.gaiaedr3_gcns_main_1\n",
      "external.gaiaedr3_gcns_rejected_1\n",
      "external.gaiaedr3_spurious\n",
      "external.galex_ais\n",
      "external.ravedr5_com\n",
      "external.ravedr5_dr5\n",
      "external.ravedr5_gra\n",
      "external.ravedr5_on\n",
      "external.sdssdr13_photoprimary\n",
      "external.skymapperdr1_master\n",
      "external.skymapperdr2_master\n",
      "external.tmass_xsc\n",
      "gaiadr1.aux_qso_icrf2_match\n",
      "gaiadr1.ext_phot_zero_point\n",
      "gaiadr1.allwise_best_neighbour\n",
      "gaiadr1.allwise_neighbourhood\n",
      "gaiadr1.gsc23_best_neighbour\n",
      "gaiadr1.gsc23_neighbourhood\n",
      "gaiadr1.ppmxl_best_neighbour\n",
      "gaiadr1.ppmxl_neighbourhood\n",
      "gaiadr1.sdss_dr9_best_neighbour\n",
      "gaiadr1.sdss_dr9_neighbourhood\n",
      "gaiadr1.tmass_best_neighbour\n",
      "gaiadr1.tmass_neighbourhood\n",
      "gaiadr1.ucac4_best_neighbour\n",
      "gaiadr1.ucac4_neighbourhood\n",
      "gaiadr1.urat1_best_neighbour\n",
      "gaiadr1.urat1_neighbourhood\n",
      "gaiadr1.cepheid\n",
      "gaiadr1.phot_variable_time_series_gfov\n",
      "gaiadr1.phot_variable_time_series_gfov_statistical_parameters\n",
      "gaiadr1.rrlyrae\n",
      "gaiadr1.variable_summary\n",
      "gaiadr1.allwise_original_valid\n",
      "gaiadr1.gsc23_original_valid\n",
      "gaiadr1.ppmxl_original_valid\n",
      "gaiadr1.sdssdr9_original_valid\n",
      "gaiadr1.tmass_original_valid\n",
      "gaiadr1.ucac4_original_valid\n",
      "gaiadr1.urat1_original_valid\n",
      "gaiadr1.gaia_source\n",
      "gaiadr1.tgas_source\n",
      "gaiadr2.aux_allwise_agn_gdr2_cross_id\n",
      "gaiadr2.aux_iers_gdr2_cross_id\n",
      "gaiadr2.aux_sso_orbit_residuals\n",
      "gaiadr2.aux_sso_orbits\n",
      "gaiadr2.dr1_neighbourhood\n",
      "gaiadr2.allwise_best_neighbour\n",
      "gaiadr2.allwise_neighbourhood\n",
      "gaiadr2.apassdr9_best_neighbour\n",
      "gaiadr2.apassdr9_neighbourhood\n",
      "gaiadr2.gsc23_best_neighbour\n",
      "gaiadr2.gsc23_neighbourhood\n",
      "gaiadr2.hipparcos2_best_neighbour\n",
      "gaiadr2.hipparcos2_neighbourhood\n",
      "gaiadr2.panstarrs1_best_neighbour\n",
      "gaiadr2.panstarrs1_neighbourhood\n",
      "gaiadr2.ppmxl_best_neighbour\n",
      "gaiadr2.ppmxl_neighbourhood\n",
      "gaiadr2.ravedr5_best_neighbour\n",
      "gaiadr2.ravedr5_neighbourhood\n",
      "gaiadr2.sdssdr9_best_neighbour\n",
      "gaiadr2.sdssdr9_neighbourhood\n",
      "gaiadr2.tmass_best_neighbour\n",
      "gaiadr2.tmass_neighbourhood\n",
      "gaiadr2.tycho2_best_neighbour\n",
      "gaiadr2.tycho2_neighbourhood\n",
      "gaiadr2.urat1_best_neighbour\n",
      "gaiadr2.urat1_neighbourhood\n",
      "gaiadr2.sso_observation\n",
      "gaiadr2.sso_source\n",
      "gaiadr2.vari_cepheid\n",
      "gaiadr2.vari_classifier_class_definition\n",
      "gaiadr2.vari_classifier_definition\n",
      "gaiadr2.vari_classifier_result\n",
      "gaiadr2.vari_long_period_variable\n",
      "gaiadr2.vari_rotation_modulation\n",
      "gaiadr2.vari_rrlyrae\n",
      "gaiadr2.vari_short_timescale\n",
      "gaiadr2.vari_time_series_statistics\n",
      "gaiadr2.panstarrs1_original_valid\n",
      "gaiadr2.gaia_source\n",
      "gaiadr2.ruwe\n",
      "gaiaedr3.gaia_source\n",
      "gaiaedr3.agn_cross_id\n",
      "gaiaedr3.commanded_scan_law\n",
      "gaiaedr3.dr2_neighbourhood\n",
      "gaiaedr3.frame_rotator_source\n",
      "gaiaedr3.allwise_best_neighbour\n",
      "gaiaedr3.allwise_neighbourhood\n",
      "gaiaedr3.apassdr9_best_neighbour\n",
      "gaiaedr3.apassdr9_join\n",
      "gaiaedr3.apassdr9_neighbourhood\n",
      "gaiaedr3.gsc23_best_neighbour\n",
      "gaiaedr3.gsc23_join\n",
      "gaiaedr3.gsc23_neighbourhood\n",
      "gaiaedr3.hipparcos2_best_neighbour\n",
      "gaiaedr3.hipparcos2_neighbourhood\n",
      "gaiaedr3.panstarrs1_best_neighbour\n",
      "gaiaedr3.panstarrs1_join\n",
      "gaiaedr3.panstarrs1_neighbourhood\n",
      "gaiaedr3.ravedr5_best_neighbour\n",
      "gaiaedr3.ravedr5_join\n",
      "gaiaedr3.ravedr5_neighbourhood\n",
      "gaiaedr3.sdssdr13_best_neighbour\n",
      "gaiaedr3.sdssdr13_join\n",
      "gaiaedr3.sdssdr13_neighbourhood\n",
      "gaiaedr3.skymapperdr2_best_neighbour\n",
      "gaiaedr3.skymapperdr2_join\n",
      "gaiaedr3.skymapperdr2_neighbourhood\n",
      "gaiaedr3.tmass_psc_xsc_best_neighbour\n",
      "gaiaedr3.tmass_psc_xsc_join\n",
      "gaiaedr3.tmass_psc_xsc_neighbourhood\n",
      "gaiaedr3.tycho2tdsc_merge_best_neighbour\n",
      "gaiaedr3.tycho2tdsc_merge_neighbourhood\n",
      "gaiaedr3.urat1_best_neighbour\n",
      "gaiaedr3.urat1_neighbourhood\n",
      "gaiaedr3.gaia_source_simulation\n",
      "gaiaedr3.gaia_universe_model\n",
      "gaiaedr3.tycho2tdsc_merge\n",
      "public.hipparcos\n",
      "public.hipparcos_newreduction\n",
      "public.hubble_sc\n",
      "public.igsl_source\n",
      "public.igsl_source_catalog_ids\n",
      "public.tycho2\n",
      "public.dual\n",
      "tap_config.coord_sys\n",
      "tap_config.properties\n",
      "tap_schema.columns\n",
      "tap_schema.key_columns\n",
      "tap_schema.keys\n",
      "tap_schema.schemas\n",
      "tap_schema.tables\n"
     ]
    }
   ],
   "source": [
    "for table in tables:\n",
    "    print(table.name)"
   ]
  },
  {
   "cell_type": "code",
   "execution_count": 12,
   "id": "5880c30b",
   "metadata": {},
   "outputs": [
    {
     "name": "stdout",
     "output_type": "stream",
     "text": [
      "Retrieving table 'gaiadr2.gaia_source'\n"
     ]
    }
   ],
   "source": [
    "meta = Gaia.load_table('gaiadr2.gaia_source')"
   ]
  },
  {
   "cell_type": "code",
   "execution_count": 13,
   "id": "14c3677d",
   "metadata": {},
   "outputs": [
    {
     "name": "stdout",
     "output_type": "stream",
     "text": [
      "TAP Table name: gaiadr2.gaiadr2.gaia_source\n",
      "Description: This table has an entry for every Gaia observed source as listed in the\n",
      "Main Database accumulating catalogue version from which the catalogue\n",
      "release has been generated. It contains the basic source parameters,\n",
      "that is only final data (no epoch data) and no spectra (neither final\n",
      "nor epoch).\n",
      "Num. columns: 95\n"
     ]
    }
   ],
   "source": [
    "print(meta)"
   ]
  },
  {
   "cell_type": "code",
   "execution_count": 15,
   "id": "34e617b7",
   "metadata": {},
   "outputs": [
    {
     "name": "stdout",
     "output_type": "stream",
     "text": [
      "solution_id\n",
      "designation\n",
      "source_id\n",
      "random_index\n",
      "ref_epoch\n",
      "ra\n",
      "ra_error\n",
      "dec\n",
      "dec_error\n",
      "parallax\n",
      "parallax_error\n",
      "parallax_over_error\n",
      "pmra\n",
      "pmra_error\n",
      "pmdec\n",
      "pmdec_error\n",
      "ra_dec_corr\n",
      "ra_parallax_corr\n",
      "ra_pmra_corr\n",
      "ra_pmdec_corr\n",
      "dec_parallax_corr\n",
      "dec_pmra_corr\n",
      "dec_pmdec_corr\n",
      "parallax_pmra_corr\n",
      "parallax_pmdec_corr\n",
      "pmra_pmdec_corr\n",
      "astrometric_n_obs_al\n",
      "astrometric_n_obs_ac\n",
      "astrometric_n_good_obs_al\n",
      "astrometric_n_bad_obs_al\n",
      "astrometric_gof_al\n",
      "astrometric_chi2_al\n",
      "astrometric_excess_noise\n",
      "astrometric_excess_noise_sig\n",
      "astrometric_params_solved\n",
      "astrometric_primary_flag\n",
      "astrometric_weight_al\n",
      "astrometric_pseudo_colour\n",
      "astrometric_pseudo_colour_error\n",
      "mean_varpi_factor_al\n",
      "astrometric_matched_observations\n",
      "visibility_periods_used\n",
      "astrometric_sigma5d_max\n",
      "frame_rotator_object_type\n",
      "matched_observations\n",
      "duplicated_source\n",
      "phot_g_n_obs\n",
      "phot_g_mean_flux\n",
      "phot_g_mean_flux_error\n",
      "phot_g_mean_flux_over_error\n",
      "phot_g_mean_mag\n",
      "phot_bp_n_obs\n",
      "phot_bp_mean_flux\n",
      "phot_bp_mean_flux_error\n",
      "phot_bp_mean_flux_over_error\n",
      "phot_bp_mean_mag\n",
      "phot_rp_n_obs\n",
      "phot_rp_mean_flux\n",
      "phot_rp_mean_flux_error\n",
      "phot_rp_mean_flux_over_error\n",
      "phot_rp_mean_mag\n",
      "phot_bp_rp_excess_factor\n",
      "phot_proc_mode\n",
      "bp_rp\n",
      "bp_g\n",
      "g_rp\n",
      "radial_velocity\n",
      "radial_velocity_error\n",
      "rv_nb_transits\n",
      "rv_template_teff\n",
      "rv_template_logg\n",
      "rv_template_fe_h\n",
      "phot_variable_flag\n",
      "l\n",
      "b\n",
      "ecl_lon\n",
      "ecl_lat\n",
      "priam_flags\n",
      "teff_val\n",
      "teff_percentile_lower\n",
      "teff_percentile_upper\n",
      "a_g_val\n",
      "a_g_percentile_lower\n",
      "a_g_percentile_upper\n",
      "e_bp_min_rp_val\n",
      "e_bp_min_rp_percentile_lower\n",
      "e_bp_min_rp_percentile_upper\n",
      "flame_flags\n",
      "radius_val\n",
      "radius_percentile_lower\n",
      "radius_percentile_upper\n",
      "lum_val\n",
      "lum_percentile_lower\n",
      "lum_percentile_upper\n",
      "datalink_url\n"
     ]
    }
   ],
   "source": [
    "for column in meta.columns:\n",
    "    print(column.name)"
   ]
  },
  {
   "cell_type": "code",
   "execution_count": 16,
   "id": "7342510c",
   "metadata": {},
   "outputs": [],
   "source": [
    "query1 = \"\"\"SELECT \n",
    "TOP 10 \n",
    "source_id, ra, dec, parallax\n",
    "FROM gaiadr2.gaia_source\"\"\""
   ]
  },
  {
   "cell_type": "code",
   "execution_count": 17,
   "id": "f0745dab",
   "metadata": {},
   "outputs": [
    {
     "name": "stdout",
     "output_type": "stream",
     "text": [
      "<Table length=10>\r\n",
      "   name    dtype  unit                            description                             n_bad\r\n",
      "--------- ------- ---- ------------------------------------------------------------------ -----\r\n",
      "source_id   int64      Unique source identifier (unique within a particular Data Release)     0\r\n",
      "       ra float64  deg                                                    Right ascension     0\r\n",
      "      dec float64  deg                                                        Declination     0\r\n",
      " parallax float64  mas                                                           Parallax     3\r\n",
      "Jobid: None\n",
      "Phase: COMPLETED\n",
      "Owner: None\n",
      "Output file: 1649352193223O-result.vot.gz\n",
      "Results: None\n"
     ]
    }
   ],
   "source": [
    "job = Gaia.launch_job(query1)\n",
    "print(job)"
   ]
  },
  {
   "cell_type": "code",
   "execution_count": 19,
   "id": "331b843f",
   "metadata": {},
   "outputs": [
    {
     "data": {
      "text/plain": [
       "astropy.table.table.Table"
      ]
     },
     "execution_count": 19,
     "metadata": {},
     "output_type": "execute_result"
    }
   ],
   "source": [
    "results = job.get_results()\n",
    "type(results)"
   ]
  },
  {
   "cell_type": "code",
   "execution_count": 20,
   "id": "7b1cb273",
   "metadata": {},
   "outputs": [
    {
     "data": {
      "text/html": [
       "<i>Table length=10</i>\n",
       "<table id=\"table1554984198976\" class=\"table-striped table-bordered table-condensed\">\n",
       "<thead><tr><th>source_id</th><th>ra</th><th>dec</th><th>parallax</th></tr></thead>\n",
       "<thead><tr><th></th><th>deg</th><th>deg</th><th>mas</th></tr></thead>\n",
       "<thead><tr><th>int64</th><th>float64</th><th>float64</th><th>float64</th></tr></thead>\n",
       "<tr><td>4650818599339213184</td><td>85.52710638111986</td><td>-72.83993794042554</td><td>-0.4127970041272453</td></tr>\n",
       "<tr><td>4650810391656783104</td><td>86.4955657093574</td><td>-71.71677790439797</td><td>-0.4387554640940034</td></tr>\n",
       "<tr><td>4650807466783406976</td><td>86.69123516600645</td><td>-71.84547581758729</td><td>-1.172299361501591</td></tr>\n",
       "<tr><td>4650809768883233024</td><td>86.6301579735317</td><td>-71.72218747553167</td><td>0.19774549080981288</td></tr>\n",
       "<tr><td>4650818637989788672</td><td>85.54810781569199</td><td>-72.83544811344974</td><td>--</td></tr>\n",
       "<tr><td>4650802725139103744</td><td>87.07351536604698</td><td>-71.94636324098207</td><td>1.0700578128810871</td></tr>\n",
       "<tr><td>4650808016561801088</td><td>86.46882180878941</td><td>-71.84338052432372</td><td>-0.2375256719554848</td></tr>\n",
       "<tr><td>4650810735253969408</td><td>86.52002928745368</td><td>-71.67790915238713</td><td>0.017476826728849218</td></tr>\n",
       "<tr><td>4650809807540200448</td><td>86.69865881528915</td><td>-71.72719843666852</td><td>--</td></tr>\n",
       "<tr><td>4650807776043977728</td><td>86.55435203390603</td><td>-71.85137289152017</td><td>--</td></tr>\n",
       "</table>"
      ],
      "text/plain": [
       "<Table length=10>\n",
       "     source_id              ra               dec               parallax      \n",
       "                           deg               deg                 mas         \n",
       "       int64             float64           float64             float64       \n",
       "------------------- ----------------- ------------------ --------------------\n",
       "4650818599339213184 85.52710638111986 -72.83993794042554  -0.4127970041272453\n",
       "4650810391656783104  86.4955657093574 -71.71677790439797  -0.4387554640940034\n",
       "4650807466783406976 86.69123516600645 -71.84547581758729   -1.172299361501591\n",
       "4650809768883233024  86.6301579735317 -71.72218747553167  0.19774549080981288\n",
       "4650818637989788672 85.54810781569199 -72.83544811344974                   --\n",
       "4650802725139103744 87.07351536604698 -71.94636324098207   1.0700578128810871\n",
       "4650808016561801088 86.46882180878941 -71.84338052432372  -0.2375256719554848\n",
       "4650810735253969408 86.52002928745368 -71.67790915238713 0.017476826728849218\n",
       "4650809807540200448 86.69865881528915 -71.72719843666852                   --\n",
       "4650807776043977728 86.55435203390603 -71.85137289152017                   --"
      ]
     },
     "execution_count": 20,
     "metadata": {},
     "output_type": "execute_result"
    }
   ],
   "source": [
    "results"
   ]
  }
 ],
 "metadata": {
  "kernelspec": {
   "display_name": "Python 3",
   "language": "python",
   "name": "python3"
  },
  "language_info": {
   "codemirror_mode": {
    "name": "ipython",
    "version": 3
   },
   "file_extension": ".py",
   "mimetype": "text/x-python",
   "name": "python",
   "nbconvert_exporter": "python",
   "pygments_lexer": "ipython3",
   "version": "3.8.11"
  }
 },
 "nbformat": 4,
 "nbformat_minor": 5
}
